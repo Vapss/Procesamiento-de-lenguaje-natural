{
 "cells": [
  {
   "cell_type": "code",
   "execution_count": null,
   "metadata": {},
   "outputs": [],
   "source": [
    "def get_sentences(corpus_path, m):\n",
    "\n",
    "    import nltk\n",
    "    from bs4 import BeautifulSoup\n",
    "    from nltk.corpus import data\n",
    "\n",
    "\n",
    "\n",
    "    files_list = files[:m]\n",
    "\n",
    "    text_string = ''\n",
    "    for f in files_list:\n",
    "        with open(f, 'r') as file:\n",
    "            text_string += file.read()\n",
    "\n",
    "    soup = BeautifulSoup(text_string, 'html.parser')\n",
    "    t = soup.get_text()\n",
    "    text_string = soup.get_text()\n",
    "\n",
    "    sent_tokenizer = nltk.data.load('tokenizers/punkt/english.pickle')\n",
    "    sentences = sent_tokenizer.tokenize(t.lower())\n",
    "    sentences = [s.strip() for s in sentences]\n",
    "\n",
    "    return sentences\n",
    "\n",
    "def normalize_sentences(sentences):\n",
    "    import nltk\n",
    "\n",
    "    with open('stopwords.txt', 'r') as file:\n",
    "        stopwords = file.read().split('\\n')\n",
    "\n",
    "    sentences = [nltk.word_tokenize(s) for s in sentences]\n",
    "    sentences = [[w for w in s if w not in stopwords] for s in sentences]\n",
    "    sentences = [[w for w in s if w.isalpha()] for s in sentences]\n",
    "    sentences = [[w for w in s if len(w) > 1] for s in sentences]\n",
    "\n",
    "    return sentences\n",
    "\n",
    "    \n",
    "\n",
    "\n"
   ]
  }
 ],
 "metadata": {
  "language_info": {
   "name": "python"
  },
  "orig_nbformat": 4
 },
 "nbformat": 4,
 "nbformat_minor": 2
}
