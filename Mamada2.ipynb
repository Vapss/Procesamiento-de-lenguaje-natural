{
 "cells": [
  {
   "cell_type": "code",
   "execution_count": null,
   "metadata": {},
   "outputs": [
    {
     "ename": "",
     "evalue": "",
     "output_type": "error",
     "traceback": [
      "\u001b[1;31mNo se pudo iniciar el Kernel. \n",
      "\u001b[1;31mEl Kernel PLN (Python 3.10.4) no se puede usar. Compruebe la pestaña de salida de Jupyter para obtener más información. \n",
      "\u001b[1;31mVea el [registro] de Jupyter (command:jupyter.viewOutput) para obtener más detalles."
     ]
    }
   ],
   "source": [
    "import numpy as np\n",
    "import random\n",
    "import re\n",
    "import nltk\n",
    "from tabulate import tabulate\n",
    "from bs4 import BeautifulSoup as bs\n",
    "from sklearn.feature_extraction.text import CountVectorizer\n",
    "from sklearn.feature_extraction.text import TfidfTransformer\n",
    "from sklearn.model_selection import train_test_split\n",
    "from sklearn.linear_model import LogisticRegression\n",
    "from sklearn.naive_bayes import MultinomialNB\n",
    "from sklearn.cluster import KMeans\n",
    "from sklearn import metrics\n",
    "from sklearn.model_selection import cross_val_score\n",
    "import spacy\n",
    "\n",
    "nlp = spacy.load('es_core_news_sm')\n"
   ]
  },
  {
   "cell_type": "code",
   "execution_count": null,
   "metadata": {},
   "outputs": [
    {
     "ename": "",
     "evalue": "",
     "output_type": "error",
     "traceback": [
      "\u001b[1;31mNo se pudo iniciar el Kernel. \n",
      "\u001b[1;31mEl Kernel PLN (Python 3.10.4) no se puede usar. Compruebe la pestaña de salida de Jupyter para obtener más información. \n",
      "\u001b[1;31mVea el [registro] de Jupyter (command:jupyter.viewOutput) para obtener más detalles."
     ]
    }
   ],
   "source": [
    "def extract_lines(corpus):\n",
    "    X = list()\n",
    "    y = list()\n",
    "    for i in range(2, 4381):\n",
    "        try:\n",
    "            fname = corpus + str(i) + '.xml'\n",
    "            with open(fname, 'r', encoding = 'latin-1') as rfile:\n",
    "                content = rfile.readlines()\n",
    "                content = \"\".join(content)\n",
    "                bs_content = bs(content, \"lxml\")\n",
    "                review = bs_content.find(\"review\")\n",
    "                rank = review.get(\"rank\")\n",
    "                y.append(int(rank))\n",
    "            \n",
    "            fname = corpus + str(i) + '.review.pos'\n",
    "            with open(fname, 'r', encoding = 'latin-1') as rfile:\n",
    "                content = rfile.readlines()\n",
    "                review_pos_aux = list()\n",
    "                              \n",
    "                for line in content:\n",
    "                    if line != '\\n':\n",
    "                        line_ls = line.split()\n",
    "                        review_pos_aux.append(line_ls[1])\n",
    "                X.append(' '.join(review_pos_aux))\n",
    "            \n",
    "        except IOError:\n",
    "            #print(\"Could not read file:\", fname)\n",
    "            pass\n",
    "    \n",
    "    return X, y"
   ]
  },
  {
   "cell_type": "code",
   "execution_count": null,
   "metadata": {},
   "outputs": [
    {
     "ename": "",
     "evalue": "",
     "output_type": "error",
     "traceback": [
      "\u001b[1;31mNo se pudo iniciar el Kernel. \n",
      "\u001b[1;31mEl Kernel PLN (Python 3.10.4) no se puede usar. Compruebe la pestaña de salida de Jupyter para obtener más información. \n",
      "\u001b[1;31mVea el [registro] de Jupyter (command:jupyter.viewOutput) para obtener más detalles."
     ]
    }
   ],
   "source": [
    "def tokenize_lines_by_words(lines):\n",
    "    new_lines = list()\n",
    "    for line in lines:\n",
    "        new_line = line.lower()\n",
    "        new_lines.append(nltk.word_tokenize(new_line))\n",
    "    \n",
    "    return new_lines"
   ]
  },
  {
   "cell_type": "code",
   "execution_count": null,
   "metadata": {},
   "outputs": [
    {
     "ename": "",
     "evalue": "",
     "output_type": "error",
     "traceback": [
      "\u001b[1;31mNo se pudo iniciar el Kernel. \n",
      "\u001b[1;31mEl Kernel PLN (Python 3.10.4) no se puede usar. Compruebe la pestaña de salida de Jupyter para obtener más información. \n",
      "\u001b[1;31mVea el [registro] de Jupyter (command:jupyter.viewOutput) para obtener más detalles."
     ]
    }
   ],
   "source": [
    "def clean_alphabetic_text_lines(lines):\n",
    "    new_lines = list()\n",
    "    for line in lines:\n",
    "        new_line = list()\n",
    "        for word in line:\n",
    "            token = list()\n",
    "            for c in word:\n",
    "                #[a-záéíóúñü+$]\n",
    "                if re.match(r'^[a-záéíóúñü+$]', c):\n",
    "                    token.append(c)\n",
    "            token = ''.join(token)\n",
    "            if token != '':\n",
    "                new_line.append(token)\n",
    "        new_lines.append(new_line)\n",
    "        \n",
    "    return new_lines"
   ]
  },
  {
   "cell_type": "code",
   "execution_count": null,
   "metadata": {},
   "outputs": [
    {
     "ename": "",
     "evalue": "",
     "output_type": "error",
     "traceback": [
      "\u001b[1;31mNo se pudo iniciar el Kernel. \n",
      "\u001b[1;31mEl Kernel PLN (Python 3.10.4) no se puede usar. Compruebe la pestaña de salida de Jupyter para obtener más información. \n",
      "\u001b[1;31mVea el [registro] de Jupyter (command:jupyter.viewOutput) para obtener más detalles."
     ]
    }
   ],
   "source": [
    "def remove_stop_words(lines):\n",
    "    stopwords = nltk.corpus.stopwords.words('spanish')\n",
    "    clean_lines = list()\n",
    "    for line in lines:\n",
    "        clean_line = list()\n",
    "        for word in line:\n",
    "            if word not in stopwords:\n",
    "                clean_line.append(word)\n",
    "        clean_lines.append(' '.join(clean_line))\n",
    "    \n",
    "    return clean_lines"
   ]
  },
  {
   "cell_type": "code",
   "execution_count": null,
   "metadata": {},
   "outputs": [
    {
     "ename": "",
     "evalue": "",
     "output_type": "error",
     "traceback": [
      "\u001b[1;31mNo se pudo iniciar el Kernel. \n",
      "\u001b[1;31mEl Kernel PLN (Python 3.10.4) no se puede usar. Compruebe la pestaña de salida de Jupyter para obtener más información. \n",
      "\u001b[1;31mVea el [registro] de Jupyter (command:jupyter.viewOutput) para obtener más detalles."
     ]
    }
   ],
   "source": [
    "def get_X_y(lines):\n",
    "    X = list()\n",
    "    y = list()\n",
    "    for line in lines:\n",
    "        n = len(line)\n",
    "        tag = line.pop(n - 1)\n",
    "        corpus = line\n",
    "        X.append(corpus)\n",
    "        y.append(tag)\n",
    "    return [X, y]"
   ]
  },
  {
   "cell_type": "code",
   "execution_count": null,
   "metadata": {},
   "outputs": [
    {
     "ename": "",
     "evalue": "",
     "output_type": "error",
     "traceback": [
      "\u001b[1;31mNo se pudo iniciar el Kernel. \n",
      "\u001b[1;31mEl Kernel PLN (Python 3.10.4) no se puede usar. Compruebe la pestaña de salida de Jupyter para obtener más información. \n",
      "\u001b[1;31mVea el [registro] de Jupyter (command:jupyter.viewOutput) para obtener más detalles."
     ]
    }
   ],
   "source": [
    "def transform_tag(y):\n",
    "    new_y = list()\n",
    "    for i in y:\n",
    "        if i == 'spam':\n",
    "            new_i = 1\n",
    "        else:\n",
    "            new_i = 0\n",
    "        new_y.append(new_i)\n",
    "    return np.array(new_y)"
   ]
  },
  {
   "cell_type": "code",
   "execution_count": null,
   "metadata": {},
   "outputs": [
    {
     "ename": "",
     "evalue": "",
     "output_type": "error",
     "traceback": [
      "\u001b[1;31mNo se pudo iniciar el Kernel. \n",
      "\u001b[1;31mEl Kernel PLN (Python 3.10.4) no se puede usar. Compruebe la pestaña de salida de Jupyter para obtener más información. \n",
      "\u001b[1;31mVea el [registro] de Jupyter (command:jupyter.viewOutput) para obtener más detalles."
     ]
    }
   ],
   "source": [
    "X, y = extract_lines('/Users/vaps/Downloads/corpusCriticasCine/corpusCriticasCine/')"
   ]
  },
  {
   "cell_type": "code",
   "execution_count": null,
   "metadata": {},
   "outputs": [
    {
     "ename": "",
     "evalue": "",
     "output_type": "error",
     "traceback": [
      "\u001b[1;31mNo se pudo iniciar el Kernel. \n",
      "\u001b[1;31mEl Kernel PLN (Python 3.10.4) no se puede usar. Compruebe la pestaña de salida de Jupyter para obtener más información. \n",
      "\u001b[1;31mVea el [registro] de Jupyter (command:jupyter.viewOutput) para obtener más detalles."
     ]
    }
   ],
   "source": [
    "tokenized_X = tokenize_lines_by_words(X)"
   ]
  },
  {
   "cell_type": "code",
   "execution_count": null,
   "metadata": {},
   "outputs": [
    {
     "ename": "",
     "evalue": "",
     "output_type": "error",
     "traceback": [
      "\u001b[1;31mNo se pudo iniciar el Kernel. \n",
      "\u001b[1;31mEl Kernel PLN (Python 3.10.4) no se puede usar. Compruebe la pestaña de salida de Jupyter para obtener más información. \n",
      "\u001b[1;31mVea el [registro] de Jupyter (command:jupyter.viewOutput) para obtener más detalles."
     ]
    }
   ],
   "source": [
    "new_X = clean_alphabetic_text_lines(tokenized_X)"
   ]
  },
  {
   "cell_type": "code",
   "execution_count": null,
   "metadata": {},
   "outputs": [
    {
     "ename": "",
     "evalue": "",
     "output_type": "error",
     "traceback": [
      "\u001b[1;31mNo se pudo iniciar el Kernel. \n",
      "\u001b[1;31mEl Kernel PLN (Python 3.10.4) no se puede usar. Compruebe la pestaña de salida de Jupyter para obtener más información. \n",
      "\u001b[1;31mVea el [registro] de Jupyter (command:jupyter.viewOutput) para obtener más detalles."
     ]
    }
   ],
   "source": [
    "clean_X = remove_stop_words(new_X)"
   ]
  },
  {
   "cell_type": "code",
   "execution_count": null,
   "metadata": {},
   "outputs": [
    {
     "ename": "",
     "evalue": "",
     "output_type": "error",
     "traceback": [
      "\u001b[1;31mNo se pudo iniciar el Kernel. \n",
      "\u001b[1;31mEl Kernel PLN (Python 3.10.4) no se puede usar. Compruebe la pestaña de salida de Jupyter para obtener más información. \n",
      "\u001b[1;31mVea el [registro] de Jupyter (command:jupyter.viewOutput) para obtener más detalles."
     ]
    }
   ],
   "source": [
    "data = list(zip(clean_X, y))"
   ]
  },
  {
   "cell_type": "code",
   "execution_count": null,
   "metadata": {},
   "outputs": [
    {
     "ename": "",
     "evalue": "",
     "output_type": "error",
     "traceback": [
      "\u001b[1;31mNo se pudo iniciar el Kernel. \n",
      "\u001b[1;31mEl Kernel PLN (Python 3.10.4) no se puede usar. Compruebe la pestaña de salida de Jupyter para obtener más información. \n",
      "\u001b[1;31mVea el [registro] de Jupyter (command:jupyter.viewOutput) para obtener más detalles."
     ]
    }
   ],
   "source": [
    "random.shuffle(data)"
   ]
  },
  {
   "cell_type": "code",
   "execution_count": null,
   "metadata": {},
   "outputs": [
    {
     "ename": "",
     "evalue": "",
     "output_type": "error",
     "traceback": [
      "\u001b[1;31mNo se pudo iniciar el Kernel. \n",
      "\u001b[1;31mEl Kernel PLN (Python 3.10.4) no se puede usar. Compruebe la pestaña de salida de Jupyter para obtener más información. \n",
      "\u001b[1;31mVea el [registro] de Jupyter (command:jupyter.viewOutput) para obtener más detalles."
     ]
    }
   ],
   "source": [
    "clean_X, y = zip(*data)"
   ]
  },
  {
   "cell_type": "code",
   "execution_count": null,
   "metadata": {},
   "outputs": [
    {
     "ename": "",
     "evalue": "",
     "output_type": "error",
     "traceback": [
      "\u001b[1;31mNo se pudo iniciar el Kernel. \n",
      "\u001b[1;31mEl Kernel PLN (Python 3.10.4) no se puede usar. Compruebe la pestaña de salida de Jupyter para obtener más información. \n",
      "\u001b[1;31mVea el [registro] de Jupyter (command:jupyter.viewOutput) para obtener más detalles."
     ]
    }
   ],
   "source": [
    "count_vect = CountVectorizer()\n",
    "tfidf_transformer = TfidfTransformer()"
   ]
  },
  {
   "cell_type": "code",
   "execution_count": null,
   "metadata": {},
   "outputs": [
    {
     "ename": "",
     "evalue": "",
     "output_type": "error",
     "traceback": [
      "\u001b[1;31mNo se pudo iniciar el Kernel. \n",
      "\u001b[1;31mEl Kernel PLN (Python 3.10.4) no se puede usar. Compruebe la pestaña de salida de Jupyter para obtener más información. \n",
      "\u001b[1;31mVea el [registro] de Jupyter (command:jupyter.viewOutput) para obtener más detalles."
     ]
    }
   ],
   "source": [
    "X_counts = count_vect.fit_transform(clean_X)\n",
    "X_tfidf = tfidf_transformer.fit_transform(X_counts)"
   ]
  },
  {
   "cell_type": "code",
   "execution_count": null,
   "metadata": {},
   "outputs": [
    {
     "ename": "",
     "evalue": "",
     "output_type": "error",
     "traceback": [
      "\u001b[1;31mNo se pudo iniciar el Kernel. \n",
      "\u001b[1;31mEl Kernel PLN (Python 3.10.4) no se puede usar. Compruebe la pestaña de salida de Jupyter para obtener más información. \n",
      "\u001b[1;31mVea el [registro] de Jupyter (command:jupyter.viewOutput) para obtener más detalles."
     ]
    }
   ],
   "source": [
    "y = np.array(y)\n"
   ]
  },
  {
   "cell_type": "code",
   "execution_count": null,
   "metadata": {},
   "outputs": [
    {
     "ename": "",
     "evalue": "",
     "output_type": "error",
     "traceback": [
      "\u001b[1;31mNo se pudo iniciar el Kernel. \n",
      "\u001b[1;31mEl Kernel PLN (Python 3.10.4) no se puede usar. Compruebe la pestaña de salida de Jupyter para obtener más información. \n",
      "\u001b[1;31mVea el [registro] de Jupyter (command:jupyter.viewOutput) para obtener más detalles."
     ]
    }
   ],
   "source": [
    "tfidf_transformer = TfidfTransformer()"
   ]
  },
  {
   "cell_type": "code",
   "execution_count": null,
   "metadata": {},
   "outputs": [
    {
     "ename": "",
     "evalue": "",
     "output_type": "error",
     "traceback": [
      "\u001b[1;31mNo se pudo iniciar el Kernel. \n",
      "\u001b[1;31mEl Kernel PLN (Python 3.10.4) no se puede usar. Compruebe la pestaña de salida de Jupyter para obtener más información. \n",
      "\u001b[1;31mVea el [registro] de Jupyter (command:jupyter.viewOutput) para obtener más detalles."
     ]
    }
   ],
   "source": [
    "X_tdidf = tfidf_transformer.fit_transform(X_counts)"
   ]
  },
  {
   "cell_type": "code",
   "execution_count": null,
   "metadata": {},
   "outputs": [
    {
     "ename": "",
     "evalue": "",
     "output_type": "error",
     "traceback": [
      "\u001b[1;31mNo se pudo iniciar el Kernel. \n",
      "\u001b[1;31mEl Kernel PLN (Python 3.10.4) no se puede usar. Compruebe la pestaña de salida de Jupyter para obtener más información. \n",
      "\u001b[1;31mVea el [registro] de Jupyter (command:jupyter.viewOutput) para obtener más detalles."
     ]
    }
   ],
   "source": [
    "X_train, X_test, y_train, y_test = train_test_split(X_tdidf, y, test_size = 0.01, random_state = 42, stratify = y)"
   ]
  },
  {
   "cell_type": "code",
   "execution_count": null,
   "metadata": {},
   "outputs": [
    {
     "ename": "",
     "evalue": "",
     "output_type": "error",
     "traceback": [
      "\u001b[1;31mNo se pudo iniciar el Kernel. \n",
      "\u001b[1;31mEl Kernel PLN (Python 3.10.4) no se puede usar. Compruebe la pestaña de salida de Jupyter para obtener más información. \n",
      "\u001b[1;31mVea el [registro] de Jupyter (command:jupyter.viewOutput) para obtener más detalles."
     ]
    }
   ],
   "source": [
    "# Logistic Regression\n",
    "logreg = LogisticRegression(penalty='l2', solver='lbfgs', multi_class='multinomial', max_iter=10000)\n",
    "\n",
    "logreg.fit(X_train, y_train)\n",
    "\n",
    "y_pred = logreg.predict(X_test)\n",
    "\n",
    "print('Accuracy of logistic regression classifier on test set: {:.2f}'.format(logreg.score(X_test, y_test)))\n",
    "\n",
    "# Confusion Matrix\n",
    "from sklearn.metrics import confusion_matrix\n",
    "confusion_matrix = confusion_matrix(y_test, y_pred)\n",
    "print(confusion_matrix)\n",
    "\n",
    "print(metrics.classification_report(y_test, y_pred))\n",
    "\n",
    "# Conjunto de entrenamiento\n",
    "y_pred_train = logreg.predict(X_train)\n",
    "\n",
    "print('Accuracy of logistic regression classifier on train set: {:.2f}'.format(logreg.score(X_train, y_train)))\n",
    "\n",
    "# Confusion Matrix\n",
    "from sklearn.metrics import confusion_matrix\n",
    "confusion_matrix = confusion_matrix(y_train, y_pred_train)\n",
    "print(confusion_matrix)\n",
    "\n",
    "print(metrics.classification_report(y_train, y_pred_train))"
   ]
  },
  {
   "cell_type": "code",
   "execution_count": null,
   "metadata": {},
   "outputs": [
    {
     "ename": "",
     "evalue": "",
     "output_type": "error",
     "traceback": [
      "\u001b[1;31mNo se pudo iniciar el Kernel. \n",
      "\u001b[1;31mEl Kernel PLN (Python 3.10.4) no se puede usar. Compruebe la pestaña de salida de Jupyter para obtener más información. \n",
      "\u001b[1;31mVea el [registro] de Jupyter (command:jupyter.viewOutput) para obtener más detalles."
     ]
    }
   ],
   "source": [
    "# Multinomial Naive Bayes\n",
    "\n",
    "clf = MultinomialNB().fit(X_train, y_train)\n",
    "\n",
    "y_pred = clf.predict(X_test)\n",
    "\n",
    "print('Accuracy of Multinomial Naive Bayes classifier on test set: {:.2f}'.format(clf.score(X_test, y_test)))\n",
    "\n",
    "# Confusion Matrix\n",
    "\n",
    "from sklearn.metrics import confusion_matrix\n",
    "\n",
    "confusion_matrix = confusion_matrix(y_test, y_pred)\n",
    "\n",
    "print(confusion_matrix)\n",
    "\n",
    "print(metrics.classification_report(y_test, y_pred))\n",
    "\n",
    "# Conjunto de entrenamiento\n",
    "\n",
    "y_pred_train = clf.predict(X_train)\n",
    "\n",
    "print('Accuracy of Multinomial Naive Bayes classifier on train set: {:.2f}'.format(clf.score(X_train, y_train)))\n",
    "\n",
    "# Confusion Matrix\n",
    "\n",
    "from sklearn.metrics import confusion_matrix\n",
    "\n",
    "confusion_matrix = confusion_matrix(y_train, y_pred_train)\n",
    "\n",
    "print(confusion_matrix)\n",
    "\n",
    "print(metrics.classification_report(y_train, y_pred_train))\n",
    "\n"
   ]
  },
  {
   "cell_type": "code",
   "execution_count": null,
   "metadata": {},
   "outputs": [
    {
     "ename": "",
     "evalue": "",
     "output_type": "error",
     "traceback": [
      "\u001b[1;31mNo se pudo iniciar el Kernel. \n",
      "\u001b[1;31mEl Kernel PLN (Python 3.10.4) no se puede usar. Compruebe la pestaña de salida de Jupyter para obtener más información. \n",
      "\u001b[1;31mVea el [registro] de Jupyter (command:jupyter.viewOutput) para obtener más detalles."
     ]
    }
   ],
   "source": [
    "# SVM\n",
    "\n",
    "#Import SVM\n",
    "\n",
    "from sklearn import svm\n",
    "\n",
    "clf = svm.SVC(kernel='linear', C=1).fit(X_train, y_train)\n",
    "\n",
    "y_pred = clf.predict(X_test)\n",
    "\n",
    "print('Accuracy of SVM classifier on test set: {:.2f}'.format(clf.score(X_test, y_test)))\n",
    "\n",
    "# Confusion Matrix\n",
    "\n",
    "from sklearn.metrics import confusion_matrix\n",
    "\n",
    "confusion_matrix = confusion_matrix(y_test, y_pred)\n",
    "\n",
    "print(confusion_matrix)\n",
    "\n",
    "print(metrics.classification_report(y_test, y_pred))\n",
    "\n",
    "# Conjunto de entrenamiento\n",
    "\n",
    "y_pred_train = clf.predict(X_train)\n",
    "\n",
    "print('Accuracy of SVM classifier on train set: {:.2f}'.format(clf.score(X_train, y_train)))\n",
    "\n",
    "# Confusion Matrix\n",
    "\n",
    "from sklearn.metrics import confusion_matrix\n",
    "\n",
    "confusion_matrix = confusion_matrix(y_train, y_pred_train)\n",
    "\n",
    "print(confusion_matrix)\n",
    "\n",
    "print(metrics.classification_report(y_train, y_pred_train))\n",
    "\n"
   ]
  },
  {
   "cell_type": "code",
   "execution_count": null,
   "metadata": {},
   "outputs": [
    {
     "ename": "",
     "evalue": "",
     "output_type": "error",
     "traceback": [
      "\u001b[1;31mNo se pudo iniciar el Kernel. \n",
      "\u001b[1;31mEl Kernel PLN (Python 3.10.4) no se puede usar. Compruebe la pestaña de salida de Jupyter para obtener más información. \n",
      "\u001b[1;31mVea el [registro] de Jupyter (command:jupyter.viewOutput) para obtener más detalles."
     ]
    }
   ],
   "source": [
    "# Obtain F1 score of .70 or higher\n",
    "\n",
    "# Logistic Regression\n",
    "\n",
    "y_pred = logreg.predict(X_test)\n",
    "\n",
    "print('F1 score of logistic regression classifier on test set: {:.2f}'.format(metrics.f1_score(y_test, y_pred, average='weighted')))\n",
    "\n",
    "# Multinomial Naive Bayes\n",
    "\n",
    "y_pred = clf.predict(X_test)\n",
    "\n",
    "print('F1 score of Multinomial Naive Bayes classifier on test set: {:.2f}'.format(metrics.f1_score(y_test, y_pred, average='weighted')))\n",
    "\n",
    "# SVM\n",
    "\n",
    "y_pred = clf.predict(X_test)\n",
    "\n",
    "print('F1 score of SVM classifier on test set: {:.2f}'.format(metrics.f1_score(y_test, y_pred, average='weighted')))"
   ]
  },
  {
   "cell_type": "code",
   "execution_count": null,
   "metadata": {},
   "outputs": [
    {
     "ename": "",
     "evalue": "",
     "output_type": "error",
     "traceback": [
      "\u001b[1;31mNo se pudo iniciar el Kernel. \n",
      "\u001b[1;31mEl Kernel PLN (Python 3.10.4) no se puede usar. Compruebe la pestaña de salida de Jupyter para obtener más información. \n",
      "\u001b[1;31mVea el [registro] de Jupyter (command:jupyter.viewOutput) para obtener más detalles."
     ]
    }
   ],
   "source": [
    "from sklearn.model_selection import KFold, GridSearchCV\n",
    "\n",
    "# Define the parameter grid\n",
    "param_grid = {'C': [0.1, 1, 10, 100], 'penalty': ['l2']}\n",
    "\n",
    "# Create a cross-validation object\n",
    "kfold = KFold(n_splits=5, shuffle=True, random_state=1)\n",
    "\n",
    "# Create a grid search object\n",
    "grid = GridSearchCV(estimator=logreg, param_grid=param_grid, cv=kfold, scoring='f1_micro')\n",
    "\n",
    "# Fit the grid search object to the training data\n",
    "grid.fit(X_train, y_train)\n",
    "\n",
    "# Select the best hyperparameters\n",
    "best_C = grid.best_params_['C']\n",
    "best_penalty = grid.best_params_['penalty']\n",
    "\n",
    "# Train a final model with the best hyperparameters\n",
    "logreg_best = LogisticRegression(C=best_C, penalty=best_penalty, solver='saga', multi_class='multinomial', max_iter=1000)\n",
    "logreg_best.fit(X_train, y_train)\n",
    "\n",
    "# Evaluate the final model on the test set\n",
    "y_pred = logreg_best.predict(X_test)\n",
    "f1 = metrics.f1_score(y_test, y_pred, average='micro')\n",
    "print('Final f1-score on test set: {:.2f}'.format(f1))\n"
   ]
  },
  {
   "cell_type": "code",
   "execution_count": null,
   "metadata": {},
   "outputs": [
    {
     "ename": "",
     "evalue": "",
     "output_type": "error",
     "traceback": [
      "\u001b[1;31mNo se pudo iniciar el Kernel. \n",
      "\u001b[1;31mEl Kernel PLN (Python 3.10.4) no se puede usar. Compruebe la pestaña de salida de Jupyter para obtener más información. \n",
      "\u001b[1;31mVea el [registro] de Jupyter (command:jupyter.viewOutput) para obtener más detalles."
     ]
    }
   ],
   "source": [
    "from sklearn.feature_extraction.text import CountVectorizer\n",
    "\n",
    "vectorizer = CountVectorizer()\n",
    "X_clean = [' '.join(text) for text in X_clean]  # concatenate tokens into a single string\n",
    "X_vectorized = vectorizer.fit_transform(X_clean)\n",
    "\n",
    "model = SVC()\n",
    "model.fit(X_vectorized, y)\n",
    "\n",
    "# Print scores\n",
    "print('Training set score: {:.2f}'.format(model.score(X_vectorized, y)))\n",
    "\n",
    "# Print the number of features\n",
    "print('Number of features: {}'.format(len(vectorizer.get_feature_names())))"
   ]
  },
  {
   "cell_type": "code",
   "execution_count": null,
   "metadata": {},
   "outputs": [
    {
     "ename": "",
     "evalue": "",
     "output_type": "error",
     "traceback": [
      "\u001b[1;31mNo se pudo iniciar el Kernel. \n",
      "\u001b[1;31mEl Kernel PLN (Python 3.10.4) no se puede usar. Compruebe la pestaña de salida de Jupyter para obtener más información. \n",
      "\u001b[1;31mVea el [registro] de Jupyter (command:jupyter.viewOutput) para obtener más detalles."
     ]
    }
   ],
   "source": [
    "from sklearn.model_selection import GridSearchCV\n",
    "from sklearn.pipeline import Pipeline\n",
    "\n",
    "\n",
    "param_grid = {\n",
    "    'vectorizer__min_df': [1, 2, 3],\n",
    "    'model__C': [0.1, 1, 10],\n",
    "    'model__kernel': ['linear', 'rbf']\n",
    "}\n",
    "\n",
    "pipeline = Pipeline([\n",
    "    ('vectorizer', CountVectorizer()),\n",
    "    ('model', SVC())\n",
    "])\n",
    "\n",
    "grid_search = GridSearchCV(pipeline, param_grid, cv=5, scoring='accuracy')\n",
    "\n",
    "grid_search.fit(X_clean, y)\n",
    "\n",
    "# Print the RESULTS\n",
    "\n",
    "print('Best parameters: {}'.format(grid_search.best_params_))\n",
    "print('Best cross-validation score: {:.2f}'.format(grid_search.best_score_))"
   ]
  },
  {
   "cell_type": "code",
   "execution_count": null,
   "metadata": {},
   "outputs": [
    {
     "ename": "",
     "evalue": "",
     "output_type": "error",
     "traceback": [
      "\u001b[1;31mNo se pudo iniciar el Kernel. \n",
      "\u001b[1;31mEl Kernel PLN (Python 3.10.4) no se puede usar. Compruebe la pestaña de salida de Jupyter para obtener más información. \n",
      "\u001b[1;31mVea el [registro] de Jupyter (command:jupyter.viewOutput) para obtener más detalles."
     ]
    }
   ],
   "source": []
  }
 ],
 "metadata": {
  "kernelspec": {
   "display_name": "PLN",
   "language": "python",
   "name": "python3"
  },
  "language_info": {
   "codemirror_mode": {
    "name": "ipython",
    "version": 3
   },
   "file_extension": ".py",
   "mimetype": "text/x-python",
   "name": "python",
   "nbconvert_exporter": "python",
   "pygments_lexer": "ipython3",
   "version": "3.10.4 (main, Mar 31 2022, 03:37:37) [Clang 12.0.0 ]"
  },
  "orig_nbformat": 4,
  "vscode": {
   "interpreter": {
    "hash": "cccfb0aedd01f55a13033b28a927957a2225aa68feabe3c4b05c5f700ec28b5d"
   }
  }
 },
 "nbformat": 4,
 "nbformat_minor": 2
}
